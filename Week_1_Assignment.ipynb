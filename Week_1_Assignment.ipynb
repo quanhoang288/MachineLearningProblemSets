{
  "nbformat": 4,
  "nbformat_minor": 0,
  "metadata": {
    "colab": {
      "name": "Copy of Week 1 Assignment",
      "provenance": [],
      "collapsed_sections": [],
      "toc_visible": true
    },
    "kernelspec": {
      "name": "python3",
      "display_name": "Python 3"
    }
  },
  "cells": [
    {
      "cell_type": "markdown",
      "metadata": {
        "id": "K-UTH5d-XiQC",
        "colab_type": "text"
      },
      "source": [
        "#SQL\n"
      ]
    },
    {
      "cell_type": "markdown",
      "metadata": {
        "id": "WD0e6TnIW9Hu",
        "colab_type": "text"
      },
      "source": [
        "##Task 1\n",
        "Query all columns for a city in CITY with the ID 1661.\n",
        "\n",
        "Input Format\n",
        "\n",
        "The CITY table is described as follows: <br>\n",
        "<img src = \"https://s3.amazonaws.com/hr-challenge-images/8137/1449729804-f21d187d0f-CITY.jpg\">\n",
        "\n",
        "1.   List item\n",
        "2.   List item\n",
        "\n"
      ]
    },
    {
      "cell_type": "code",
      "metadata": {
        "id": "K4Bt1V9rW_KJ",
        "colab_type": "code",
        "colab": {}
      },
      "source": [
        "pd.read_sql_query('SELECT * FROM CITY WHERE ID == 1661', conn)"
      ],
      "execution_count": null,
      "outputs": []
    },
    {
      "cell_type": "markdown",
      "metadata": {
        "id": "f6A9keYQXtfC",
        "colab_type": "text"
      },
      "source": [
        "##Task 2\n",
        "Query all columns for all American cities in CITY with populations larger than 100000. The CountryCode for America is USA.\n",
        "\n",
        "Input Format<br>\n",
        "<img src = \"https://s3.amazonaws.com/hr-challenge-images/8137/1449729804-f21d187d0f-CITY.jpg\">\n"
      ]
    },
    {
      "cell_type": "code",
      "metadata": {
        "id": "2AeLf7ooX7O-",
        "colab_type": "code",
        "colab": {}
      },
      "source": [
        "pd.read_sql_query('SELECT * FROM CITY WHERE COUNTRYCODE LIKE \"USA\" AND POPULATION > 100000', conn)"
      ],
      "execution_count": null,
      "outputs": []
    },
    {
      "cell_type": "markdown",
      "metadata": {
        "id": "r69LByLtYCY0",
        "colab_type": "text"
      },
      "source": [
        "##Task 3\n",
        "Query all attributes of every Japanese city in the CITY table. The COUNTRYCODE for Japan is JPN.\n",
        "\n",
        "Input Format:<br>\n",
        "<img src = \"https://s3.amazonaws.com/hr-challenge-images/8137/1449729804-f21d187d0f-CITY.jpg\">"
      ]
    },
    {
      "cell_type": "code",
      "metadata": {
        "id": "olzcFs4-YVm6",
        "colab_type": "code",
        "colab": {}
      },
      "source": [
        "pd.read_sql_query('SELECT * FROM CITY WHERE COUNTRYCODE LIKE \"JPN\"', conn)"
      ],
      "execution_count": null,
      "outputs": []
    },
    {
      "cell_type": "markdown",
      "metadata": {
        "id": "kNb_l0BAYqQY",
        "colab_type": "text"
      },
      "source": [
        "##Task 4\n",
        "Query the names of all the Japanese cities in the CITY table. The COUNTRYCODE for Japan is JPN.\n",
        "\n",
        "Input Format<br>\n",
        "<img src = \"https://s3.amazonaws.com/hr-challenge-images/8137/1449729804-f21d187d0f-CITY.jpg\">\n"
      ]
    },
    {
      "cell_type": "code",
      "metadata": {
        "id": "SGkB1ac5Y8C2",
        "colab_type": "code",
        "colab": {}
      },
      "source": [
        "pd.read_sql_query('SELECT NAME FROM CITY WHERE COUNTRYCODE LIKE \"JPN\"', conn)"
      ],
      "execution_count": null,
      "outputs": []
    },
    {
      "cell_type": "markdown",
      "metadata": {
        "id": "G_YzuI-hZBeL",
        "colab_type": "text"
      },
      "source": [
        "##Task 5\n",
        "Query a list of CITY and STATE from the STATION table.\n",
        "\n",
        "Input Format\n",
        "\n",
        "The STATION table is described as follows:<br>\n",
        "<img src = 'https://s3.amazonaws.com/hr-challenge-images/9336/1449345840-5f0a551030-Station.jpg'>"
      ]
    },
    {
      "cell_type": "code",
      "metadata": {
        "id": "1WxKBKUOZNUQ",
        "colab_type": "code",
        "colab": {}
      },
      "source": [
        "pd.read_sql_query('SELECT CITY, STATE FROM STATION', conn)"
      ],
      "execution_count": null,
      "outputs": []
    },
    {
      "cell_type": "markdown",
      "metadata": {
        "id": "OqMKxr4hZSBn",
        "colab_type": "text"
      },
      "source": [
        "##Task 6\n",
        "Query a list of CITY names from STATION with even ID numbers only. You may print the results in any order, but must exclude duplicates from your answer.\n",
        "\n",
        "Input Format\n",
        "\n",
        "The STATION table is described as follows:<br>\n",
        "<img src =\"https://s3.amazonaws.com/hr-challenge-images/9336/1449345840-5f0a551030-Station.jpg\">\n"
      ]
    },
    {
      "cell_type": "code",
      "metadata": {
        "id": "OOF-_k34Zg3U",
        "colab_type": "code",
        "colab": {}
      },
      "source": [
        "pd.read_sql_query('SELECT DISTINCT CITY FROM STATION WHERE ID % 2 == 0', conn)"
      ],
      "execution_count": null,
      "outputs": []
    },
    {
      "cell_type": "markdown",
      "metadata": {
        "id": "ZcN5Ns0fZnT9",
        "colab_type": "text"
      },
      "source": [
        "Let  be the number of CITY entries in STATION, and let  be the number of distinct CITY names in STATION; query the value of  from STATION. In other words, find the difference between the total number of CITY entries in the table and the number of distinct CITY entries in the table.\n",
        "\n",
        "Input Format\n",
        "\n",
        "The STATION table is described as follows:<br>\n",
        "<img src = \"https://s3.amazonaws.com/hr-challenge-images/9336/1449345840-5f0a551030-Station.jpg\"><br>\n",
        "where LAT_N is the northern latitude and LONG_W is the western longitude."
      ]
    },
    {
      "cell_type": "code",
      "metadata": {
        "id": "J8Hcjsl6lVW8",
        "colab_type": "code",
        "colab": {}
      },
      "source": [
        "city_entries = pd.read_sql_query('SELECT CITY FROM STATION', conn)\n",
        "distinct_city_entries = pd.read_sql_query('SELECT DISTINCT CITY FROM STATION', conn)\n",
        "diff = city_entries.count()[0] - distinct_city_entries.count()[0] "
      ],
      "execution_count": null,
      "outputs": []
    },
    {
      "cell_type": "markdown",
      "metadata": {
        "id": "8fWTW_yflyCC",
        "colab_type": "text"
      },
      "source": [
        "##Task 7\n",
        "Query the two cities in STATION with the shortest and longest CITY names, as well as their respective lengths (i.e.: number of characters in the name). If there is more than one smallest or largest city, choose the one that comes first when ordered alphabetically.\n",
        "\n",
        "Input Format\n",
        "\n",
        "The STATION table is described as follows:<br>\n",
        "  <img src = \"https://s3.amazonaws.com/hr-challenge-images/9336/1449345840-5f0a551030-Station.jpg\">\n",
        "  "
      ]
    },
    {
      "cell_type": "code",
      "metadata": {
        "id": "zPqGViBgl4mL",
        "colab_type": "code",
        "colab": {}
      },
      "source": [
        "smallest = pd.read_sql_query('SELECT CITY FROM STATION ORDER BY length(CITY), CITY LIMIT 1', conn)\n",
        "largest = pd.read_sql_query('SELECT CITY FROM STATION ORDER BY length(CITY) DESC, CITY LIMIT 1', conn)\n",
        "pd.concat([smallest, largest])"
      ],
      "execution_count": null,
      "outputs": []
    },
    {
      "cell_type": "markdown",
      "metadata": {
        "id": "34DxPDy5l9N2",
        "colab_type": "text"
      },
      "source": [
        "##Task 8\n",
        "Query the list of CITY names starting with vowels (i.e., a, e, i, o, or u) from STATION. Your result cannot contain duplicates.\n",
        "\n",
        "Input Format\n",
        "\n",
        "The STATION table is described as follows: <br>\n",
        "<img src = \"https://s3.amazonaws.com/hr-challenge-images/9336/1449345840-5f0a551030-Station.jpg\" >\n"
      ]
    },
    {
      "cell_type": "code",
      "metadata": {
        "id": "RWRar3_emQ7Y",
        "colab_type": "code",
        "colab": {}
      },
      "source": [
        "pd.read_sql_query('''\n",
        "SELECT DISTINCT CITY \n",
        "FROM STATION \n",
        "WHERE \n",
        "    lower(substr(CITY, 1, 1)) IN (\"a\",\"e\", \"i\", \"o\", \"u\")\n",
        "''', conn)"
      ],
      "execution_count": null,
      "outputs": []
    },
    {
      "cell_type": "markdown",
      "metadata": {
        "id": "E1WTjlFPmTfp",
        "colab_type": "text"
      },
      "source": [
        "##Task 9\n",
        "Query the list of CITY names ending with vowels (a, e, i, o, u) from STATION. Your result cannot contain duplicates.\n",
        "\n",
        "Input Format\n",
        "\n",
        "The STATION table is described as follows:<br>\n",
        "<img src =\"https://s3.amazonaws.com/hr-challenge-images/9336/1449345840-5f0a551030-Station.jpg\">\n"
      ]
    },
    {
      "cell_type": "code",
      "metadata": {
        "id": "wQ7n53Lwmp1Z",
        "colab_type": "code",
        "colab": {}
      },
      "source": [
        "pd.read_sql_query('''\n",
        "SELECT DISTINCT CITY \n",
        "FROM STATION \n",
        "WHERE lower(substr(CITY, -1, 1)) IN (\"a\", \"e\", \"i\", \"o\", \"u\")\n",
        "''', conn)"
      ],
      "execution_count": null,
      "outputs": []
    },
    {
      "cell_type": "markdown",
      "metadata": {
        "id": "bNSYroclmsPI",
        "colab_type": "text"
      },
      "source": [
        "##Task 10\n",
        "Query the list of CITY names from STATION which have vowels (i.e., a, e, i, o, and u) as both their first and last characters. Your result cannot contain duplicates.\n",
        "\n",
        "Input Format\n",
        "\n",
        "The STATION table is described as follows:<br>\n",
        "<img src =\"https://s3.amazonaws.com/hr-challenge-images/9336/1449345840-5f0a551030-Station.jpg\">"
      ]
    },
    {
      "cell_type": "code",
      "metadata": {
        "id": "PQZ0Tecam6hD",
        "colab_type": "code",
        "colab": {}
      },
      "source": [
        "pd.read_sql_query('''\n",
        "SELECT DISTINCT CITY \n",
        "FROM STATION \n",
        "WHERE \n",
        "    lower(substr(CITY, -1, 1)) IN (\"a\",\"e\", \"i\", \"o\", \"u\")\n",
        "    AND lower(substr(CITY, 1, 1)) IN (\"a\",\"e\", \"i\", \"o\", \"u\")\n",
        "''', conn)"
      ],
      "execution_count": null,
      "outputs": []
    },
    {
      "cell_type": "markdown",
      "metadata": {
        "id": "DJT7d3P6nJx9",
        "colab_type": "text"
      },
      "source": [
        "#Python"
      ]
    },
    {
      "cell_type": "markdown",
      "metadata": {
        "id": "6IwVOztbngOn",
        "colab_type": "text"
      },
      "source": [
        "##Task 1\n",
        "Task\n",
        "Given an integer, perform the following conditional actions:\n",
        "\n",
        "* If n is odd, print `Weird`\n",
        "* If n is even and in the inclusive range of 2 to 5, print `Not Weird`\n",
        "* If n is even and in the inclusive range of 6 to 20, print `Weird`\n",
        "* If n is even and greater than 20, print `Not Weird`\n",
        "\n",
        "Input Format\n",
        "\n",
        "A single line containing a positive integer\n",
        "\n",
        "Output Format\n",
        "\n",
        "Print Weird if the number is weird; otherwise, print Not Weird."
      ]
    },
    {
      "cell_type": "code",
      "metadata": {
        "id": "1BfL6RuLoXFl",
        "colab_type": "code",
        "colab": {
          "base_uri": "https://localhost:8080/",
          "height": 51
        },
        "outputId": "1077f04f-9b21-40a3-b0a6-1906b1b6cc82"
      },
      "source": [
        "if __name__ == '__main__':\n",
        "    n = int(input())\n",
        "    # your code here\n",
        "    if n % 2 != 0:\n",
        "        print('Weird')\n",
        "    else:\n",
        "        if n >= 2 and n <= 5: print('Not Weird')\n",
        "        elif n >= 6 and n <= 20: print('Weird')\n",
        "        elif n > 20: print('Not Weird')"
      ],
      "execution_count": null,
      "outputs": [
        {
          "output_type": "stream",
          "text": [
            "12\n",
            "Weird\n"
          ],
          "name": "stdout"
        }
      ]
    },
    {
      "cell_type": "markdown",
      "metadata": {
        "id": "ZozvHrq_o3VH",
        "colab_type": "text"
      },
      "source": [
        "##Task 2\n",
        "Read two integers from STDIN and print three lines where:\n",
        "<ol>\n",
        "  <li>The first line contains the sum of the two numbers.</li>\n",
        "  <li>The second line contains the difference of the two numbers (first - second).</li>\n",
        "  <li>The third line contains the product of the two numbers.</li>\n",
        "</ol>\n",
        "\n",
        "**Input Format**\n",
        "\n",
        "The first line contains the first integer, **a**. The second line contains the second integer, **b**.\n",
        "\n",
        "**Output Format**\n",
        "\n",
        "Print the three lines as explained above."
      ]
    },
    {
      "cell_type": "code",
      "metadata": {
        "id": "W59QuFDUp8A6",
        "colab_type": "code",
        "colab": {
          "base_uri": "https://localhost:8080/",
          "height": 102
        },
        "outputId": "4e700b70-74ea-4ce6-9654-37cffc663989"
      },
      "source": [
        "if __name__ == '__main__':\n",
        "    a = int(input())\n",
        "    b = int(input())\n",
        "    # your code here\n",
        "    print(a + b)\n",
        "    print(a - b)\n",
        "    print(a * b)"
      ],
      "execution_count": null,
      "outputs": [
        {
          "output_type": "stream",
          "text": [
            "3\n",
            "4\n",
            "7\n",
            "-1\n",
            "12\n"
          ],
          "name": "stdout"
        }
      ]
    },
    {
      "cell_type": "markdown",
      "metadata": {
        "id": "nRtP3Qt4qWPW",
        "colab_type": "text"
      },
      "source": [
        "#Task 3\n",
        "Task\n",
        "Read an integer $N$. For all non-negative integers $i<N$ , print $i^{2}$. See the sample for details.\n",
        "\n",
        "Input Format\n",
        "\n",
        "The first and only line contains the integer, $N$ .\n",
        "\n",
        "Constraints<br>\n",
        "$1 \\leq N \\leq i$\n",
        "\n",
        "Output Format\n",
        "\n",
        "Print $N$ lines, one corresponding to each $i$."
      ]
    },
    {
      "cell_type": "code",
      "metadata": {
        "id": "vwwkRd5kqPt6",
        "colab_type": "code",
        "colab": {
          "base_uri": "https://localhost:8080/",
          "height": 119
        },
        "outputId": "c1314097-e08c-4c6e-fa8f-1dae6e5fb1c6"
      },
      "source": [
        "if __name__ == '__main__':\n",
        "    n = int(input())\n",
        "    # your code here\n",
        "    for i in range(n):\n",
        "        print(i*i)"
      ],
      "execution_count": null,
      "outputs": [
        {
          "output_type": "stream",
          "text": [
            "5\n",
            "0\n",
            "1\n",
            "4\n",
            "9\n",
            "16\n"
          ],
          "name": "stdout"
        }
      ]
    },
    {
      "cell_type": "markdown",
      "metadata": {
        "id": "6dXblWaxrpaA",
        "colab_type": "text"
      },
      "source": [
        "##Task 4\n",
        "We add a Leap Day on February 29, almost every four years. The leap day is an extra, or intercalary day and we add it to the shortest month of the year, February.<br>\n",
        "\n",
        "In the Gregorian calendar three criteria must be taken into account to identify leap years:\n",
        "<ul>\n",
        "<li>The year can be evenly divided by 4, is a leap year, unless:</li>\n",
        "  <ul><li>The year can be evenly divided by 100, it is NOT a leap year, unless:</li>\n",
        "    <ul><li>The year is also evenly divisible by 400. Then it is a leap year.</li></ul></ul></ul>\n",
        "This means that in the Gregorian calendar, the years 2000 and 2400 are leap years, while 1800, 1900, 2100, 2200, 2300 and 2500 are NOT leap years.Source\n",
        "\n",
        "**Task**<br>\n",
        "<ul>\n",
        "<li>You are given the year, and you have to write a function to check if the year is leap or not.</li>\n",
        "\n",
        "  <li>Note that you have to complete the function and remaining code is given as template.</li>\n",
        "  </ul>\n",
        "\n",
        "**Input Format**\n",
        "\n",
        "Read y, the year that needs to be checked.\n",
        "\n",
        "**Constraints**<br>\n",
        "$1900 \\leq y \\leq 10^{5}$\n",
        "\n",
        "**Output Format**\n",
        "\n",
        "Output is taken care of by the template. Your function must return a boolean value (True/False)\n",
        "\n"
      ]
    },
    {
      "cell_type": "code",
      "metadata": {
        "id": "8W6xXR9NtrUL",
        "colab_type": "code",
        "colab": {
          "base_uri": "https://localhost:8080/",
          "height": 34
        },
        "outputId": "fb3ab36f-b398-4259-cf0e-e4f364bd5207"
      },
      "source": [
        "def is_leap(year):\n",
        "    if year % 4 != 0:\n",
        "        return False\n",
        "    if year % 100 == 0 and year % 400 != 0:\n",
        "        return False\n",
        "    return True \n",
        "# leap_years = [ 2000, 2004, 2008, 2012, 2016, 2020, 2024, 2028, 2032, 2036, 2040, 2044,2048]\n",
        "# print([is_leap(year) for year in leap_years])\n",
        "  \n",
        "  # your code here"
      ],
      "execution_count": null,
      "outputs": [
        {
          "output_type": "stream",
          "text": [
            "[True, True, True, True, True, True, True, True, True, True, True, True, True]\n"
          ],
          "name": "stdout"
        }
      ]
    },
    {
      "cell_type": "markdown",
      "metadata": {
        "id": "B2WQ4__LrpBZ",
        "colab_type": "text"
      },
      "source": [
        "##Task 5\n",
        "Given the participants' score sheet for your University Sports Day, you are required to find the runner-up score. You are given $n$ scores. Store them in a list and find the score of the runner-up.\n",
        "\n",
        "**Input Format**\n",
        "\n",
        "The first line contains $n$ . The second line contains an array $A[]$ of $n$ integers each separated by a space.\n",
        "\n",
        "**Constraints**<br>\n",
        "$2   \\leq n \\leq 10 $<br>\n",
        "$-100 \\leq A[i] \\leq 100 $\n",
        "\n",
        "Output Format\n",
        "\n",
        "Print the runner-up score."
      ]
    },
    {
      "cell_type": "code",
      "metadata": {
        "id": "xp0z6_EEuwFI",
        "colab_type": "code",
        "colab": {
          "base_uri": "https://localhost:8080/",
          "height": 68
        },
        "outputId": "f559084d-12af-4045-ab91-c8b0d1a3b897"
      },
      "source": [
        "if __name__ == '__main__':\n",
        "    n = int(input())\n",
        "    # your code here\n",
        "    a = [int(num) for num in input().split(' ')]\n",
        "    a.sort(reverse=True)\n",
        "    print(a[1])"
      ],
      "execution_count": null,
      "outputs": [
        {
          "output_type": "stream",
          "text": [
            "3\n",
            "8 19 3\n",
            "8\n"
          ],
          "name": "stdout"
        }
      ]
    },
    {
      "cell_type": "markdown",
      "metadata": {
        "id": "zz6org5syhDk",
        "colab_type": "text"
      },
      "source": [
        "# Bonus\n"
      ]
    },
    {
      "cell_type": "markdown",
      "metadata": {
        "id": "uvs5EPx3zHse",
        "colab_type": "text"
      },
      "source": [
        "1. Python Lab"
      ]
    },
    {
      "cell_type": "markdown",
      "metadata": {
        "id": "ndDcyv4QzUD-",
        "colab_type": "text"
      },
      "source": [
        "3.\n",
        "This problem was asked by Snapchat.\n",
        "\n",
        "Given a list of possibly overlapping intervals, return a new list of intervals where all overlapping intervals have been merged.\n",
        "\n",
        "The input list is not necessarily ordered in any way.\n",
        "\n",
        "For example, given [(1, 3), (5, 8), (4, 10), (20, 25)], you should return [(1, 3), (4, 10), (20, 25)]."
      ]
    },
    {
      "cell_type": "code",
      "metadata": {
        "id": "wnWwPda_aGFd",
        "colab_type": "code",
        "colab": {
          "base_uri": "https://localhost:8080/",
          "height": 34
        },
        "outputId": "006d7202-75b6-4d49-c3c6-4255259f6a80"
      },
      "source": [
        "# Your code here\n",
        "def merge_interval(a):\n",
        "    a.sort()\n",
        "    min_val = a[0][0]\n",
        "    max_val = a[0][1]\n",
        "    res = []\n",
        "    for i in range(1, len(a)):\n",
        "        if a[i][0] > max_val:\n",
        "            res.append((min_val, max_val))\n",
        "            min_val = a[i][0]\n",
        "            max_val = a[i][1]\n",
        "        else:\n",
        "            max_val = max(a[i][1], max_val)\n",
        "    res.append((min_val, max_val))\n",
        "    print(res)\n",
        "            \n",
        "           \n",
        "a =  [(1, 3), (5, 11), (4, 10), (20, 25)]\n",
        "merge_interval(a)"
      ],
      "execution_count": null,
      "outputs": [
        {
          "output_type": "stream",
          "text": [
            "[(1, 3), (4, 11), (20, 25)]\n"
          ],
          "name": "stdout"
        }
      ]
    },
    {
      "cell_type": "markdown",
      "metadata": {
        "id": "r0aMzMWNzoaZ",
        "colab_type": "text"
      },
      "source": [
        "\n",
        "5.\n",
        "You are given a string. The only operation allowed is to insert characters in the beginning of the string. How many minimum characters are needed to be inserted to make the string a palindrome string\n",
        "\n",
        "Example: Input: ABC Output: 2 Input: AACECAAAA Output: 2\n",
        "\n",
        "\n",
        "\n"
      ]
    },
    {
      "cell_type": "code",
      "metadata": {
        "id": "_WJ-kG8rzlod",
        "colab_type": "code",
        "colab": {
          "base_uri": "https://localhost:8080/",
          "height": 34
        },
        "outputId": "e9b33465-1a5c-4d54-fe37-c95b8555b0ff"
      },
      "source": [
        "# Your code here\n",
        "def min_construct(s):\n",
        "    res = 0\n",
        "    longest_len = 0\n",
        "    for i in range(1, len(s)):\n",
        "        if s[:i+1] == s[:i+1][::-1]:\n",
        "            longest_len = i + 1\n",
        "    if longest_len > 0:\n",
        "        res = len(s) - longest_len\n",
        "    else:\n",
        "        res = len(s) - 1\n",
        "    return res\n",
        "\n",
        "s = 'AACECAAAA'\n",
        "print(min_construct(s))"
      ],
      "execution_count": null,
      "outputs": [
        {
          "output_type": "stream",
          "text": [
            "2\n"
          ],
          "name": "stdout"
        }
      ]
    },
    {
      "cell_type": "markdown",
      "metadata": {
        "id": "j6u_Q2_b0Ki8",
        "colab_type": "text"
      },
      "source": [
        "2. SQL"
      ]
    },
    {
      "cell_type": "code",
      "metadata": {
        "id": "I4dCP1Bk31ch",
        "colab_type": "code",
        "colab": {
          "base_uri": "https://localhost:8080/",
          "height": 419
        },
        "outputId": "178573e3-ee51-4709-8891-4f973bb4150b"
      },
      "source": [
        "# Find all tracks that couldn't be sold (null invoice_items)\n",
        "pd.read_sql_query('''\n",
        "SELECT tracks.TrackId, tracks.Name\n",
        "FROM tracks\n",
        "LEFT JOIN invoice_items ON tracks.TrackId == invoice_items.TrackId\n",
        "WHERE InvoiceId IS NULL\n",
        "''', conn)"
      ],
      "execution_count": null,
      "outputs": [
        {
          "output_type": "execute_result",
          "data": {
            "text/html": [
              "<div>\n",
              "<style scoped>\n",
              "    .dataframe tbody tr th:only-of-type {\n",
              "        vertical-align: middle;\n",
              "    }\n",
              "\n",
              "    .dataframe tbody tr th {\n",
              "        vertical-align: top;\n",
              "    }\n",
              "\n",
              "    .dataframe thead th {\n",
              "        text-align: right;\n",
              "    }\n",
              "</style>\n",
              "<table border=\"1\" class=\"dataframe\">\n",
              "  <thead>\n",
              "    <tr style=\"text-align: right;\">\n",
              "      <th></th>\n",
              "      <th>TrackId</th>\n",
              "      <th>Name</th>\n",
              "    </tr>\n",
              "  </thead>\n",
              "  <tbody>\n",
              "    <tr>\n",
              "      <th>0</th>\n",
              "      <td>7</td>\n",
              "      <td>Let's Get It Up</td>\n",
              "    </tr>\n",
              "    <tr>\n",
              "      <th>1</th>\n",
              "      <td>11</td>\n",
              "      <td>C.O.D.</td>\n",
              "    </tr>\n",
              "    <tr>\n",
              "      <th>2</th>\n",
              "      <td>17</td>\n",
              "      <td>Let There Be Rock</td>\n",
              "    </tr>\n",
              "    <tr>\n",
              "      <th>3</th>\n",
              "      <td>18</td>\n",
              "      <td>Bad Boy Boogie</td>\n",
              "    </tr>\n",
              "    <tr>\n",
              "      <th>4</th>\n",
              "      <td>22</td>\n",
              "      <td>Whole Lotta Rosie</td>\n",
              "    </tr>\n",
              "    <tr>\n",
              "      <th>...</th>\n",
              "      <td>...</td>\n",
              "      <td>...</td>\n",
              "    </tr>\n",
              "    <tr>\n",
              "      <th>1514</th>\n",
              "      <td>3497</td>\n",
              "      <td>Erlkonig, D.328</td>\n",
              "    </tr>\n",
              "    <tr>\n",
              "      <th>1515</th>\n",
              "      <td>3498</td>\n",
              "      <td>Concerto for Violin, Strings and Continuo in G...</td>\n",
              "    </tr>\n",
              "    <tr>\n",
              "      <th>1516</th>\n",
              "      <td>3501</td>\n",
              "      <td>L'orfeo, Act 3, Sinfonia (Orchestra)</td>\n",
              "    </tr>\n",
              "    <tr>\n",
              "      <th>1517</th>\n",
              "      <td>3502</td>\n",
              "      <td>Quintet for Horn, Violin, 2 Violas, and Cello ...</td>\n",
              "    </tr>\n",
              "    <tr>\n",
              "      <th>1518</th>\n",
              "      <td>3503</td>\n",
              "      <td>Koyaanisqatsi</td>\n",
              "    </tr>\n",
              "  </tbody>\n",
              "</table>\n",
              "<p>1519 rows × 2 columns</p>\n",
              "</div>"
            ],
            "text/plain": [
              "      TrackId                                               Name\n",
              "0           7                                    Let's Get It Up\n",
              "1          11                                             C.O.D.\n",
              "2          17                                  Let There Be Rock\n",
              "3          18                                     Bad Boy Boogie\n",
              "4          22                                  Whole Lotta Rosie\n",
              "...       ...                                                ...\n",
              "1514     3497                                    Erlkonig, D.328\n",
              "1515     3498  Concerto for Violin, Strings and Continuo in G...\n",
              "1516     3501               L'orfeo, Act 3, Sinfonia (Orchestra)\n",
              "1517     3502  Quintet for Horn, Violin, 2 Violas, and Cello ...\n",
              "1518     3503                                      Koyaanisqatsi\n",
              "\n",
              "[1519 rows x 2 columns]"
            ]
          },
          "metadata": {
            "tags": []
          },
          "execution_count": 25
        }
      ]
    },
    {
      "cell_type": "code",
      "metadata": {
        "id": "C3r6sEa28da4",
        "colab_type": "code",
        "colab": {
          "base_uri": "https://localhost:8080/",
          "height": 1000
        },
        "outputId": "6511d547-6f8a-4214-d97b-bdeec7fd01cd"
      },
      "source": [
        "# List all genres and the distinct media types in each genre\n",
        "pd.read_sql_query('''\n",
        "SELECT genres.Name as Genre, media_types.Name AS Media_Type\n",
        "FROM tracks\n",
        "INNER JOIN genres ON tracks.GenreId == genres.GenreId             \n",
        "INNER JOIN media_types ON media_types.MediaTypeId == tracks.MediaTypeId       \n",
        "GROUP BY Genre, Media_Type\n",
        "\n",
        "''', conn)\n",
        "\n"
      ],
      "execution_count": null,
      "outputs": [
        {
          "output_type": "execute_result",
          "data": {
            "text/html": [
              "<div>\n",
              "<style scoped>\n",
              "    .dataframe tbody tr th:only-of-type {\n",
              "        vertical-align: middle;\n",
              "    }\n",
              "\n",
              "    .dataframe tbody tr th {\n",
              "        vertical-align: top;\n",
              "    }\n",
              "\n",
              "    .dataframe thead th {\n",
              "        text-align: right;\n",
              "    }\n",
              "</style>\n",
              "<table border=\"1\" class=\"dataframe\">\n",
              "  <thead>\n",
              "    <tr style=\"text-align: right;\">\n",
              "      <th></th>\n",
              "      <th>Genre</th>\n",
              "      <th>Media_Type</th>\n",
              "    </tr>\n",
              "  </thead>\n",
              "  <tbody>\n",
              "    <tr>\n",
              "      <th>0</th>\n",
              "      <td>Alternative</td>\n",
              "      <td>Protected AAC audio file</td>\n",
              "    </tr>\n",
              "    <tr>\n",
              "      <th>1</th>\n",
              "      <td>Alternative</td>\n",
              "      <td>Protected MPEG-4 video file</td>\n",
              "    </tr>\n",
              "    <tr>\n",
              "      <th>2</th>\n",
              "      <td>Alternative</td>\n",
              "      <td>Purchased AAC audio file</td>\n",
              "    </tr>\n",
              "    <tr>\n",
              "      <th>3</th>\n",
              "      <td>Alternative &amp; Punk</td>\n",
              "      <td>MPEG audio file</td>\n",
              "    </tr>\n",
              "    <tr>\n",
              "      <th>4</th>\n",
              "      <td>Blues</td>\n",
              "      <td>MPEG audio file</td>\n",
              "    </tr>\n",
              "    <tr>\n",
              "      <th>5</th>\n",
              "      <td>Bossa Nova</td>\n",
              "      <td>MPEG audio file</td>\n",
              "    </tr>\n",
              "    <tr>\n",
              "      <th>6</th>\n",
              "      <td>Classical</td>\n",
              "      <td>AAC audio file</td>\n",
              "    </tr>\n",
              "    <tr>\n",
              "      <th>7</th>\n",
              "      <td>Classical</td>\n",
              "      <td>Protected AAC audio file</td>\n",
              "    </tr>\n",
              "    <tr>\n",
              "      <th>8</th>\n",
              "      <td>Classical</td>\n",
              "      <td>Purchased AAC audio file</td>\n",
              "    </tr>\n",
              "    <tr>\n",
              "      <th>9</th>\n",
              "      <td>Comedy</td>\n",
              "      <td>Protected MPEG-4 video file</td>\n",
              "    </tr>\n",
              "    <tr>\n",
              "      <th>10</th>\n",
              "      <td>Drama</td>\n",
              "      <td>Protected MPEG-4 video file</td>\n",
              "    </tr>\n",
              "    <tr>\n",
              "      <th>11</th>\n",
              "      <td>Easy Listening</td>\n",
              "      <td>MPEG audio file</td>\n",
              "    </tr>\n",
              "    <tr>\n",
              "      <th>12</th>\n",
              "      <td>Electronica/Dance</td>\n",
              "      <td>AAC audio file</td>\n",
              "    </tr>\n",
              "    <tr>\n",
              "      <th>13</th>\n",
              "      <td>Electronica/Dance</td>\n",
              "      <td>MPEG audio file</td>\n",
              "    </tr>\n",
              "    <tr>\n",
              "      <th>14</th>\n",
              "      <td>Heavy Metal</td>\n",
              "      <td>MPEG audio file</td>\n",
              "    </tr>\n",
              "    <tr>\n",
              "      <th>15</th>\n",
              "      <td>Hip Hop/Rap</td>\n",
              "      <td>MPEG audio file</td>\n",
              "    </tr>\n",
              "    <tr>\n",
              "      <th>16</th>\n",
              "      <td>Jazz</td>\n",
              "      <td>AAC audio file</td>\n",
              "    </tr>\n",
              "    <tr>\n",
              "      <th>17</th>\n",
              "      <td>Jazz</td>\n",
              "      <td>MPEG audio file</td>\n",
              "    </tr>\n",
              "    <tr>\n",
              "      <th>18</th>\n",
              "      <td>Latin</td>\n",
              "      <td>AAC audio file</td>\n",
              "    </tr>\n",
              "    <tr>\n",
              "      <th>19</th>\n",
              "      <td>Latin</td>\n",
              "      <td>MPEG audio file</td>\n",
              "    </tr>\n",
              "    <tr>\n",
              "      <th>20</th>\n",
              "      <td>Metal</td>\n",
              "      <td>MPEG audio file</td>\n",
              "    </tr>\n",
              "    <tr>\n",
              "      <th>21</th>\n",
              "      <td>Opera</td>\n",
              "      <td>Protected AAC audio file</td>\n",
              "    </tr>\n",
              "    <tr>\n",
              "      <th>22</th>\n",
              "      <td>Pop</td>\n",
              "      <td>MPEG audio file</td>\n",
              "    </tr>\n",
              "    <tr>\n",
              "      <th>23</th>\n",
              "      <td>Pop</td>\n",
              "      <td>Protected AAC audio file</td>\n",
              "    </tr>\n",
              "    <tr>\n",
              "      <th>24</th>\n",
              "      <td>R&amp;B/Soul</td>\n",
              "      <td>MPEG audio file</td>\n",
              "    </tr>\n",
              "    <tr>\n",
              "      <th>25</th>\n",
              "      <td>R&amp;B/Soul</td>\n",
              "      <td>Protected AAC audio file</td>\n",
              "    </tr>\n",
              "    <tr>\n",
              "      <th>26</th>\n",
              "      <td>Reggae</td>\n",
              "      <td>MPEG audio file</td>\n",
              "    </tr>\n",
              "    <tr>\n",
              "      <th>27</th>\n",
              "      <td>Rock</td>\n",
              "      <td>AAC audio file</td>\n",
              "    </tr>\n",
              "    <tr>\n",
              "      <th>28</th>\n",
              "      <td>Rock</td>\n",
              "      <td>MPEG audio file</td>\n",
              "    </tr>\n",
              "    <tr>\n",
              "      <th>29</th>\n",
              "      <td>Rock</td>\n",
              "      <td>Protected AAC audio file</td>\n",
              "    </tr>\n",
              "    <tr>\n",
              "      <th>30</th>\n",
              "      <td>Rock And Roll</td>\n",
              "      <td>MPEG audio file</td>\n",
              "    </tr>\n",
              "    <tr>\n",
              "      <th>31</th>\n",
              "      <td>Sci Fi &amp; Fantasy</td>\n",
              "      <td>Protected MPEG-4 video file</td>\n",
              "    </tr>\n",
              "    <tr>\n",
              "      <th>32</th>\n",
              "      <td>Science Fiction</td>\n",
              "      <td>Protected MPEG-4 video file</td>\n",
              "    </tr>\n",
              "    <tr>\n",
              "      <th>33</th>\n",
              "      <td>Soundtrack</td>\n",
              "      <td>MPEG audio file</td>\n",
              "    </tr>\n",
              "    <tr>\n",
              "      <th>34</th>\n",
              "      <td>Soundtrack</td>\n",
              "      <td>Protected AAC audio file</td>\n",
              "    </tr>\n",
              "    <tr>\n",
              "      <th>35</th>\n",
              "      <td>TV Shows</td>\n",
              "      <td>Protected MPEG-4 video file</td>\n",
              "    </tr>\n",
              "    <tr>\n",
              "      <th>36</th>\n",
              "      <td>World</td>\n",
              "      <td>AAC audio file</td>\n",
              "    </tr>\n",
              "    <tr>\n",
              "      <th>37</th>\n",
              "      <td>World</td>\n",
              "      <td>MPEG audio file</td>\n",
              "    </tr>\n",
              "  </tbody>\n",
              "</table>\n",
              "</div>"
            ],
            "text/plain": [
              "                 Genre                   Media_Type\n",
              "0          Alternative     Protected AAC audio file\n",
              "1          Alternative  Protected MPEG-4 video file\n",
              "2          Alternative     Purchased AAC audio file\n",
              "3   Alternative & Punk              MPEG audio file\n",
              "4                Blues              MPEG audio file\n",
              "5           Bossa Nova              MPEG audio file\n",
              "6            Classical               AAC audio file\n",
              "7            Classical     Protected AAC audio file\n",
              "8            Classical     Purchased AAC audio file\n",
              "9               Comedy  Protected MPEG-4 video file\n",
              "10               Drama  Protected MPEG-4 video file\n",
              "11      Easy Listening              MPEG audio file\n",
              "12   Electronica/Dance               AAC audio file\n",
              "13   Electronica/Dance              MPEG audio file\n",
              "14         Heavy Metal              MPEG audio file\n",
              "15         Hip Hop/Rap              MPEG audio file\n",
              "16                Jazz               AAC audio file\n",
              "17                Jazz              MPEG audio file\n",
              "18               Latin               AAC audio file\n",
              "19               Latin              MPEG audio file\n",
              "20               Metal              MPEG audio file\n",
              "21               Opera     Protected AAC audio file\n",
              "22                 Pop              MPEG audio file\n",
              "23                 Pop     Protected AAC audio file\n",
              "24            R&B/Soul              MPEG audio file\n",
              "25            R&B/Soul     Protected AAC audio file\n",
              "26              Reggae              MPEG audio file\n",
              "27                Rock               AAC audio file\n",
              "28                Rock              MPEG audio file\n",
              "29                Rock     Protected AAC audio file\n",
              "30       Rock And Roll              MPEG audio file\n",
              "31    Sci Fi & Fantasy  Protected MPEG-4 video file\n",
              "32     Science Fiction  Protected MPEG-4 video file\n",
              "33          Soundtrack              MPEG audio file\n",
              "34          Soundtrack     Protected AAC audio file\n",
              "35            TV Shows  Protected MPEG-4 video file\n",
              "36               World               AAC audio file\n",
              "37               World              MPEG audio file"
            ]
          },
          "metadata": {
            "tags": []
          },
          "execution_count": 54
        }
      ]
    },
    {
      "cell_type": "code",
      "metadata": {
        "id": "z3QK3EepBI3H",
        "colab_type": "code",
        "colab": {
          "base_uri": "https://localhost:8080/",
          "height": 80
        },
        "outputId": "a94d4d56-1829-41a7-fcc2-a7dbfec5fd42"
      },
      "source": [
        "# Find the revenue of 2013\n",
        "pd.read_sql_query('''\n",
        "SELECT strftime('%Y',invoices.InvoiceDate) AS Year, SUM(invoice_items.UnitPrice * invoice_items.Quantity) as Revenue\n",
        "FROM invoices\n",
        "INNER JOIN invoice_items ON invoice_items.InvoiceId == invoices.InvoiceId\n",
        "GROUP BY Year\n",
        "HAVING Year LIKE '2013'\n",
        "''', conn)"
      ],
      "execution_count": null,
      "outputs": [
        {
          "output_type": "execute_result",
          "data": {
            "text/html": [
              "<div>\n",
              "<style scoped>\n",
              "    .dataframe tbody tr th:only-of-type {\n",
              "        vertical-align: middle;\n",
              "    }\n",
              "\n",
              "    .dataframe tbody tr th {\n",
              "        vertical-align: top;\n",
              "    }\n",
              "\n",
              "    .dataframe thead th {\n",
              "        text-align: right;\n",
              "    }\n",
              "</style>\n",
              "<table border=\"1\" class=\"dataframe\">\n",
              "  <thead>\n",
              "    <tr style=\"text-align: right;\">\n",
              "      <th></th>\n",
              "      <th>Year</th>\n",
              "      <th>Revenue</th>\n",
              "    </tr>\n",
              "  </thead>\n",
              "  <tbody>\n",
              "    <tr>\n",
              "      <th>0</th>\n",
              "      <td>2013</td>\n",
              "      <td>450.58</td>\n",
              "    </tr>\n",
              "  </tbody>\n",
              "</table>\n",
              "</div>"
            ],
            "text/plain": [
              "   Year  Revenue\n",
              "0  2013   450.58"
            ]
          },
          "metadata": {
            "tags": []
          },
          "execution_count": 29
        }
      ]
    },
    {
      "cell_type": "code",
      "metadata": {
        "id": "XnlVKXmt1lrb",
        "colab_type": "code",
        "colab": {
          "base_uri": "https://localhost:8080/",
          "height": 80
        },
        "outputId": "673348c8-91ac-4417-a683-9c1f3196152f"
      },
      "source": [
        "# Find the number of tracks belong to the genre Rock\n",
        "pd.read_sql_query('''\n",
        "SELECT COUNT(tracks.Name) AS 'Number of Tracks'\n",
        "FROM tracks\n",
        "INNER JOIN genres ON tracks.GenreId == genres.GenreId\n",
        "GROUP BY genres.Name\n",
        "HAVING genres.Name LIKE 'Rock'\n",
        "''', conn)"
      ],
      "execution_count": null,
      "outputs": [
        {
          "output_type": "execute_result",
          "data": {
            "text/html": [
              "<div>\n",
              "<style scoped>\n",
              "    .dataframe tbody tr th:only-of-type {\n",
              "        vertical-align: middle;\n",
              "    }\n",
              "\n",
              "    .dataframe tbody tr th {\n",
              "        vertical-align: top;\n",
              "    }\n",
              "\n",
              "    .dataframe thead th {\n",
              "        text-align: right;\n",
              "    }\n",
              "</style>\n",
              "<table border=\"1\" class=\"dataframe\">\n",
              "  <thead>\n",
              "    <tr style=\"text-align: right;\">\n",
              "      <th></th>\n",
              "      <th>Number of Tracks</th>\n",
              "    </tr>\n",
              "  </thead>\n",
              "  <tbody>\n",
              "    <tr>\n",
              "      <th>0</th>\n",
              "      <td>1297</td>\n",
              "    </tr>\n",
              "  </tbody>\n",
              "</table>\n",
              "</div>"
            ],
            "text/plain": [
              "   Number of Tracks\n",
              "0              1297"
            ]
          },
          "metadata": {
            "tags": []
          },
          "execution_count": 30
        }
      ]
    },
    {
      "cell_type": "code",
      "metadata": {
        "id": "3XOtPFH8DorX",
        "colab_type": "code",
        "colab": {
          "base_uri": "https://localhost:8080/",
          "height": 142
        },
        "outputId": "263b5cfe-4dbe-481d-fd09-f882b3891c5f"
      },
      "source": [
        "# Find the number of customers each employee has supported\n",
        "pd.read_sql_query('''\n",
        "SELECT employees.LastName || ' ' || employees.FirstName AS Employee, COUNT(customers.CustomerId) AS 'No of customers'\n",
        "FROM employees\n",
        "INNER JOIN customers ON employees.EmployeeId == customers.SupportRepId\n",
        "GROUP BY Employee\n",
        "''', conn)"
      ],
      "execution_count": null,
      "outputs": [
        {
          "output_type": "execute_result",
          "data": {
            "text/html": [
              "<div>\n",
              "<style scoped>\n",
              "    .dataframe tbody tr th:only-of-type {\n",
              "        vertical-align: middle;\n",
              "    }\n",
              "\n",
              "    .dataframe tbody tr th {\n",
              "        vertical-align: top;\n",
              "    }\n",
              "\n",
              "    .dataframe thead th {\n",
              "        text-align: right;\n",
              "    }\n",
              "</style>\n",
              "<table border=\"1\" class=\"dataframe\">\n",
              "  <thead>\n",
              "    <tr style=\"text-align: right;\">\n",
              "      <th></th>\n",
              "      <th>Employee</th>\n",
              "      <th>No of customers</th>\n",
              "    </tr>\n",
              "  </thead>\n",
              "  <tbody>\n",
              "    <tr>\n",
              "      <th>0</th>\n",
              "      <td>Johnson Steve</td>\n",
              "      <td>18</td>\n",
              "    </tr>\n",
              "    <tr>\n",
              "      <th>1</th>\n",
              "      <td>Park Margaret</td>\n",
              "      <td>20</td>\n",
              "    </tr>\n",
              "    <tr>\n",
              "      <th>2</th>\n",
              "      <td>Peacock Jane</td>\n",
              "      <td>21</td>\n",
              "    </tr>\n",
              "  </tbody>\n",
              "</table>\n",
              "</div>"
            ],
            "text/plain": [
              "        Employee  No of customers\n",
              "0  Johnson Steve               18\n",
              "1  Park Margaret               20\n",
              "2   Peacock Jane               21"
            ]
          },
          "metadata": {
            "tags": []
          },
          "execution_count": 15
        }
      ]
    },
    {
      "cell_type": "code",
      "metadata": {
        "id": "DtMQ5OWpGXN8",
        "colab_type": "code",
        "colab": {
          "base_uri": "https://localhost:8080/",
          "height": 80
        },
        "outputId": "0b8e02bf-1fcc-44d7-e2a3-c21d4894f922"
      },
      "source": [
        "# Find the customer who paid the most\n",
        "pd.read_sql_query('''\n",
        "SELECT customers.FirstName || ' ' || customers.Lastname as Customer, SUM(invoice_items.UnitPrice * invoice_items.Quantity) as Paid\n",
        "FROM customers\n",
        "INNER JOIN invoices ON invoices.CustomerId == customers.CustomerId\n",
        "INNER JOIN invoice_items ON invoice_items.InvoiceId == invoices.InvoiceId\n",
        "GROUP BY customers.CustomerId\n",
        "ORDER BY Paid DESC \n",
        "LIMIT 1\n",
        " ''', conn)"
      ],
      "execution_count": null,
      "outputs": [
        {
          "output_type": "execute_result",
          "data": {
            "text/html": [
              "<div>\n",
              "<style scoped>\n",
              "    .dataframe tbody tr th:only-of-type {\n",
              "        vertical-align: middle;\n",
              "    }\n",
              "\n",
              "    .dataframe tbody tr th {\n",
              "        vertical-align: top;\n",
              "    }\n",
              "\n",
              "    .dataframe thead th {\n",
              "        text-align: right;\n",
              "    }\n",
              "</style>\n",
              "<table border=\"1\" class=\"dataframe\">\n",
              "  <thead>\n",
              "    <tr style=\"text-align: right;\">\n",
              "      <th></th>\n",
              "      <th>Customer</th>\n",
              "      <th>Paid</th>\n",
              "    </tr>\n",
              "  </thead>\n",
              "  <tbody>\n",
              "    <tr>\n",
              "      <th>0</th>\n",
              "      <td>Helena Holý</td>\n",
              "      <td>49.62</td>\n",
              "    </tr>\n",
              "  </tbody>\n",
              "</table>\n",
              "</div>"
            ],
            "text/plain": [
              "      Customer   Paid\n",
              "0  Helena Holý  49.62"
            ]
          },
          "metadata": {
            "tags": []
          },
          "execution_count": 19
        }
      ]
    },
    {
      "cell_type": "code",
      "metadata": {
        "id": "qOFdo1XdQyCq",
        "colab_type": "code",
        "colab": {
          "base_uri": "https://localhost:8080/",
          "height": 80
        },
        "outputId": "b6d22aa2-f27c-4227-ae38-2f96083fadb8"
      },
      "source": [
        "# Find the richest artist\n",
        "pd.read_sql_query('''\n",
        "SELECT artists.Name, SUM(invoice_items.UnitPrice * invoice_items.Quantity) AS Revenue\n",
        "FROM artists\n",
        "INNER JOIN albums ON artists.ArtistId == albums.ArtistId\n",
        "INNER JOIN tracks ON tracks.AlbumId == albums.AlbumId\n",
        "INNER JOIN invoice_items ON invoice_items.TrackId == tracks.TrackId\n",
        "GROUP BY artists.ArtistId\n",
        "ORDER BY Revenue DESC \n",
        "LIMIT 1\n",
        "''', conn)"
      ],
      "execution_count": null,
      "outputs": [
        {
          "output_type": "execute_result",
          "data": {
            "text/html": [
              "<div>\n",
              "<style scoped>\n",
              "    .dataframe tbody tr th:only-of-type {\n",
              "        vertical-align: middle;\n",
              "    }\n",
              "\n",
              "    .dataframe tbody tr th {\n",
              "        vertical-align: top;\n",
              "    }\n",
              "\n",
              "    .dataframe thead th {\n",
              "        text-align: right;\n",
              "    }\n",
              "</style>\n",
              "<table border=\"1\" class=\"dataframe\">\n",
              "  <thead>\n",
              "    <tr style=\"text-align: right;\">\n",
              "      <th></th>\n",
              "      <th>Name</th>\n",
              "      <th>Revenue</th>\n",
              "    </tr>\n",
              "  </thead>\n",
              "  <tbody>\n",
              "    <tr>\n",
              "      <th>0</th>\n",
              "      <td>Iron Maiden</td>\n",
              "      <td>138.6</td>\n",
              "    </tr>\n",
              "  </tbody>\n",
              "</table>\n",
              "</div>"
            ],
            "text/plain": [
              "          Name  Revenue\n",
              "0  Iron Maiden    138.6"
            ]
          },
          "metadata": {
            "tags": []
          },
          "execution_count": 22
        }
      ]
    }
  ]
}